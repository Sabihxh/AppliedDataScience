{
 "cells": [
  {
   "cell_type": "markdown",
   "metadata": {},
   "source": [
    "## London borough with the best House Price (Terraced) to Crime ratio"
   ]
  },
  {
   "cell_type": "markdown",
   "metadata": {},
   "source": [
    "### Data Sources\n",
    "\n",
    "##### London Crime data by borough from Sept 2016 - Aug 2018\n",
    "https://data.london.gov.uk/dataset/recorded_crime_summary\n",
    "\n",
    "\n",
    "##### London House Prices data by borough from Jan 2016 - July 2018\n",
    "https://data.london.gov.uk/dataset/uk-house-price-index"
   ]
  },
  {
   "cell_type": "code",
   "execution_count": 185,
   "metadata": {},
   "outputs": [],
   "source": [
    "# Import libraries\n",
    "import numpy as np\n",
    "import pandas as pd\n",
    "import matplotlib.pyplot as plt"
   ]
  },
  {
   "cell_type": "code",
   "execution_count": 186,
   "metadata": {},
   "outputs": [],
   "source": [
    "# Load data\n",
    "crime_raw_df = pd.read_csv('./data/MPS Borough Level Crime.csv')\n",
    "house_price_raw_df = pd.read_excel('./data/UK House price index.xls', sheet_name='Average price')"
   ]
  },
  {
   "cell_type": "markdown",
   "metadata": {},
   "source": [
    "### Format Crime Data"
   ]
  },
  {
   "cell_type": "code",
   "execution_count": 187,
   "metadata": {},
   "outputs": [],
   "source": [
    "# Keep the required columns\n",
    "keep_columns = [\n",
    "    'Borough', \n",
    "    '201701', '201702', '201703', '201704', '201705', '201706', \n",
    "    '201707', '201708', '201709', '201710', '201711', '201712',\n",
    "    '201801', '201802', '201803', '201804', '201805', '201806',\n",
    "    '201807'\n",
    "]\n",
    "\n",
    "crime_raw_df = crime_raw_df[keep_columns]"
   ]
  },
  {
   "cell_type": "code",
   "execution_count": 188,
   "metadata": {},
   "outputs": [],
   "source": [
    "# Group and sum all crimes by borough\n",
    "crime_df = crime_raw_df.groupby('Borough').sum()\n",
    "\n",
    "# Drop unwanted row\n",
    "crime_df = crime_df.drop('London Heathrow and London City Airports')"
   ]
  },
  {
   "cell_type": "code",
   "execution_count": 189,
   "metadata": {},
   "outputs": [],
   "source": [
    "# Stack data and name series\n",
    "crime_df = crime_df.stack()\n",
    "crime_df.name = 'Crime'"
   ]
  },
  {
   "cell_type": "markdown",
   "metadata": {},
   "source": [
    "### Format House Price Data"
   ]
  },
  {
   "cell_type": "code",
   "execution_count": 190,
   "metadata": {},
   "outputs": [],
   "source": [
    "# Keep the required rows and columns\n",
    "columns = [\n",
    "    'Barking & Dagenham', 'Barnet', 'Bexley', 'Brent',\n",
    "    'Bromley', 'Camden', 'Croydon', 'Ealing', 'Enfield', 'Greenwich',\n",
    "    'Hackney', 'Hammersmith & Fulham', 'Haringey', 'Harrow', 'Havering',\n",
    "    'Hillingdon', 'Hounslow', 'Islington', 'Kensington & Chelsea',\n",
    "    'Kingston upon Thames', 'Lambeth', 'Lewisham', 'Merton', 'Newham',\n",
    "    'Redbridge', 'Richmond upon Thames', 'Southwark', 'Sutton',\n",
    "    'Tower Hamlets', 'Waltham Forest', 'Wandsworth', 'Westminster'\n",
    "]\n",
    "house_price_raw_df = house_price_raw_df[columns]\n",
    "\n",
    "# Get data from Jan 2017 to Aug 2018\n",
    "house_price_raw_df = house_price_raw_df.loc['2017-01-01': '2018-07-01']\n",
    "\n",
    "# Change index to year month\n",
    "house_price_raw_df.index = house_price_raw_df.index.map(lambda x: x.strftime('%Y%m'))"
   ]
  },
  {
   "cell_type": "code",
   "execution_count": 191,
   "metadata": {},
   "outputs": [],
   "source": [
    "# Stack data and name series\n",
    "house_price_df = house_price_raw_df.T.stack()\n",
    "house_price_df.name = 'House Price'"
   ]
  },
  {
   "cell_type": "markdown",
   "metadata": {},
   "source": [
    "### Merge Crime and House Price Data"
   ]
  },
  {
   "cell_type": "code",
   "execution_count": 192,
   "metadata": {},
   "outputs": [
    {
     "data": {
      "text/plain": [
       "Borough                     \n",
       "Barking and Dagenham  201701    1379\n",
       "                      201702    1410\n",
       "                      201703    1604\n",
       "                      201704    1497\n",
       "                      201705    1706\n",
       "Name: Crime, dtype: int64"
      ]
     },
     "execution_count": 192,
     "metadata": {},
     "output_type": "execute_result"
    }
   ],
   "source": [
    "crime_df.head()"
   ]
  },
  {
   "cell_type": "code",
   "execution_count": 193,
   "metadata": {},
   "outputs": [
    {
     "data": {
      "text/plain": [
       "Barking & Dagenham  201701    282441\n",
       "                    201702    280698\n",
       "                    201703    278213\n",
       "                    201704    280567\n",
       "                    201705    286018\n",
       "Name: House Price, dtype: object"
      ]
     },
     "execution_count": 193,
     "metadata": {},
     "output_type": "execute_result"
    }
   ],
   "source": [
    "house_price_df.head()"
   ]
  },
  {
   "cell_type": "code",
   "execution_count": 194,
   "metadata": {},
   "outputs": [
    {
     "data": {
      "text/plain": [
       "True"
      ]
     },
     "execution_count": 194,
     "metadata": {},
     "output_type": "execute_result"
    }
   ],
   "source": [
    "# Validate data shapes\n",
    "crime_df.shape == house_price_df.shape"
   ]
  },
  {
   "cell_type": "code",
   "execution_count": 195,
   "metadata": {},
   "outputs": [
    {
     "data": {
      "text/plain": [
       "True"
      ]
     },
     "execution_count": 195,
     "metadata": {},
     "output_type": "execute_result"
    }
   ],
   "source": [
    "type(crime_df) == type(house_price_df)"
   ]
  },
  {
   "cell_type": "code",
   "execution_count": 196,
   "metadata": {},
   "outputs": [],
   "source": [
    "# Convert series to dataframe\n",
    "crime_df = pd.DataFrame(crime_df)\n",
    "house_price_df = pd.DataFrame(house_price_df)\n",
    "\n",
    "# Name multi index\n"
   ]
  },
  {
   "cell_type": "code",
   "execution_count": 197,
   "metadata": {},
   "outputs": [],
   "source": [
    "crime_df.index.names = ['Borough', 'Period']\n",
    "house_price_df.index.names = ['Borough', 'Period']"
   ]
  },
  {
   "cell_type": "code",
   "execution_count": 204,
   "metadata": {},
   "outputs": [
    {
     "data": {
      "text/html": [
       "<div>\n",
       "<style scoped>\n",
       "    .dataframe tbody tr th:only-of-type {\n",
       "        vertical-align: middle;\n",
       "    }\n",
       "\n",
       "    .dataframe tbody tr th {\n",
       "        vertical-align: top;\n",
       "    }\n",
       "\n",
       "    .dataframe thead th {\n",
       "        text-align: right;\n",
       "    }\n",
       "</style>\n",
       "<table border=\"1\" class=\"dataframe\">\n",
       "  <thead>\n",
       "    <tr style=\"text-align: right;\">\n",
       "      <th></th>\n",
       "      <th></th>\n",
       "      <th>Crime</th>\n",
       "      <th>House Price</th>\n",
       "    </tr>\n",
       "    <tr>\n",
       "      <th>Borough</th>\n",
       "      <th>Period</th>\n",
       "      <th></th>\n",
       "      <th></th>\n",
       "    </tr>\n",
       "  </thead>\n",
       "  <tbody>\n",
       "    <tr>\n",
       "      <th rowspan=\"5\" valign=\"top\">Barnet</th>\n",
       "      <th>201701</th>\n",
       "      <td>2077</td>\n",
       "      <td>532924</td>\n",
       "    </tr>\n",
       "    <tr>\n",
       "      <th>201702</th>\n",
       "      <td>2045</td>\n",
       "      <td>540501</td>\n",
       "    </tr>\n",
       "    <tr>\n",
       "      <th>201703</th>\n",
       "      <td>2438</td>\n",
       "      <td>549401</td>\n",
       "    </tr>\n",
       "    <tr>\n",
       "      <th>201704</th>\n",
       "      <td>2207</td>\n",
       "      <td>543699</td>\n",
       "    </tr>\n",
       "    <tr>\n",
       "      <th>201705</th>\n",
       "      <td>2293</td>\n",
       "      <td>544994</td>\n",
       "    </tr>\n",
       "  </tbody>\n",
       "</table>\n",
       "</div>"
      ],
      "text/plain": [
       "                Crime House Price\n",
       "Borough Period                   \n",
       "Barnet  201701   2077      532924\n",
       "        201702   2045      540501\n",
       "        201703   2438      549401\n",
       "        201704   2207      543699\n",
       "        201705   2293      544994"
      ]
     },
     "execution_count": 204,
     "metadata": {},
     "output_type": "execute_result"
    }
   ],
   "source": [
    "final_df = pd.merge(crime_df, house_price_df, left_index=True, right_index=True)\n",
    "final_df.head()"
   ]
  },
  {
   "cell_type": "code",
   "execution_count": 206,
   "metadata": {},
   "outputs": [
    {
     "data": {
      "text/plain": [
       "Crime            2272.789474\n",
       "House Price    536771.343300\n",
       "dtype: float64"
      ]
     },
     "execution_count": 206,
     "metadata": {},
     "output_type": "execute_result"
    }
   ],
   "source": [
    "final_df.xs('Barnet').mean()"
   ]
  },
  {
   "cell_type": "code",
   "execution_count": null,
   "metadata": {},
   "outputs": [],
   "source": []
  },
  {
   "cell_type": "code",
   "execution_count": null,
   "metadata": {},
   "outputs": [],
   "source": []
  },
  {
   "cell_type": "code",
   "execution_count": null,
   "metadata": {},
   "outputs": [],
   "source": []
  },
  {
   "cell_type": "code",
   "execution_count": null,
   "metadata": {},
   "outputs": [],
   "source": []
  }
 ],
 "metadata": {
  "kernelspec": {
   "display_name": "Python 3",
   "language": "python",
   "name": "python3"
  },
  "language_info": {
   "codemirror_mode": {
    "name": "ipython",
    "version": 3
   },
   "file_extension": ".py",
   "mimetype": "text/x-python",
   "name": "python",
   "nbconvert_exporter": "python",
   "pygments_lexer": "ipython3",
   "version": "3.6.5"
  }
 },
 "nbformat": 4,
 "nbformat_minor": 2
}

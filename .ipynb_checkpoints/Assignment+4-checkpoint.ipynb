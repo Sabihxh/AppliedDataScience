{
 "cells": [
  {
   "cell_type": "markdown",
   "metadata": {},
   "source": [
    "---\n",
    "\n",
    "_You are currently looking at **version 1.1** of this notebook. To download notebooks and datafiles, as well as get help on Jupyter notebooks in the Coursera platform, visit the [Jupyter Notebook FAQ](https://www.coursera.org/learn/python-data-analysis/resources/0dhYG) course resource._\n",
    "\n",
    "---"
   ]
  },
  {
   "cell_type": "code",
   "execution_count": 1,
   "metadata": {},
   "outputs": [],
   "source": [
    "import pandas as pd\n",
    "import numpy as np\n",
    "from scipy.stats import ttest_ind"
   ]
  },
  {
   "cell_type": "markdown",
   "metadata": {},
   "source": [
    "# Assignment 4 - Hypothesis Testing\n",
    "This assignment requires more individual learning than previous assignments - you are encouraged to check out the [pandas documentation](http://pandas.pydata.org/pandas-docs/stable/) to find functions or methods you might not have used yet, or ask questions on [Stack Overflow](http://stackoverflow.com/) and tag them as pandas and python related. And of course, the discussion forums are open for interaction with your peers and the course staff.\n",
    "\n",
    "Definitions:\n",
    "* A _quarter_ is a specific three month period, Q1 is January through March, Q2 is April through June, Q3 is July through September, Q4 is October through December.\n",
    "* A _recession_ is defined as starting with two consecutive quarters of GDP decline, and ending with two consecutive quarters of GDP growth.\n",
    "* A _recession bottom_ is the quarter within a recession which had the lowest GDP.\n",
    "* A _university town_ is a city which has a high percentage of university students compared to the total population of the city.\n",
    "\n",
    "**Hypothesis**: University towns have their mean housing prices less effected by recessions. Run a t-test to compare the ratio of the mean price of houses in university towns the quarter before the recession starts compared to the recession bottom. (`price_ratio=quarter_before_recession/recession_bottom`)\n",
    "\n",
    "The following data files are available for this assignment:\n",
    "* From the [Zillow research data site](http://www.zillow.com/research/data/) there is housing data for the United States. In particular the datafile for [all homes at a city level](http://files.zillowstatic.com/research/public/City/City_Zhvi_AllHomes.csv), ```City_Zhvi_AllHomes.csv```, has median home sale prices at a fine grained level.\n",
    "* From the Wikipedia page on college towns is a list of [university towns in the United States](https://en.wikipedia.org/wiki/List_of_college_towns#College_towns_in_the_United_States) which has been copy and pasted into the file ```university_towns.txt```.\n",
    "* From Bureau of Economic Analysis, US Department of Commerce, the [GDP over time](http://www.bea.gov/national/index.htm#gdp) of the United States in current dollars (use the chained value in 2009 dollars), in quarterly intervals, in the file ```gdplev.xls```. For this assignment, only look at GDP data from the first quarter of 2000 onward.\n",
    "\n",
    "Each function in this assignment below is worth 10%, with the exception of ```run_ttest()```, which is worth 50%."
   ]
  },
  {
   "cell_type": "code",
   "execution_count": 2,
   "metadata": {},
   "outputs": [],
   "source": [
    "# Use this dictionary to map state names to two letter acronyms\n",
    "states = {'OH': 'Ohio', 'KY': 'Kentucky', 'AS': 'American Samoa', 'NV': 'Nevada', 'WY': 'Wyoming', 'NA': 'National', 'AL': 'Alabama', 'MD': 'Maryland', 'AK': 'Alaska', 'UT': 'Utah', 'OR': 'Oregon', 'MT': 'Montana', 'IL': 'Illinois', 'TN': 'Tennessee', 'DC': 'District of Columbia', 'VT': 'Vermont', 'ID': 'Idaho', 'AR': 'Arkansas', 'ME': 'Maine', 'WA': 'Washington', 'HI': 'Hawaii', 'WI': 'Wisconsin', 'MI': 'Michigan', 'IN': 'Indiana', 'NJ': 'New Jersey', 'AZ': 'Arizona', 'GU': 'Guam', 'MS': 'Mississippi', 'PR': 'Puerto Rico', 'NC': 'North Carolina', 'TX': 'Texas', 'SD': 'South Dakota', 'MP': 'Northern Mariana Islands', 'IA': 'Iowa', 'MO': 'Missouri', 'CT': 'Connecticut', 'WV': 'West Virginia', 'SC': 'South Carolina', 'LA': 'Louisiana', 'KS': 'Kansas', 'NY': 'New York', 'NE': 'Nebraska', 'OK': 'Oklahoma', 'FL': 'Florida', 'CA': 'California', 'CO': 'Colorado', 'PA': 'Pennsylvania', 'DE': 'Delaware', 'NM': 'New Mexico', 'RI': 'Rhode Island', 'MN': 'Minnesota', 'VI': 'Virgin Islands', 'NH': 'New Hampshire', 'MA': 'Massachusetts', 'GA': 'Georgia', 'ND': 'North Dakota', 'VA': 'Virginia'}"
   ]
  },
  {
   "cell_type": "code",
   "execution_count": 3,
   "metadata": {
    "umich_part_id": "021",
    "umich_partlist_id": "004"
   },
   "outputs": [
    {
     "data": {
      "text/html": [
       "<div>\n",
       "<style scoped>\n",
       "    .dataframe tbody tr th:only-of-type {\n",
       "        vertical-align: middle;\n",
       "    }\n",
       "\n",
       "    .dataframe tbody tr th {\n",
       "        vertical-align: top;\n",
       "    }\n",
       "\n",
       "    .dataframe thead th {\n",
       "        text-align: right;\n",
       "    }\n",
       "</style>\n",
       "<table border=\"1\" class=\"dataframe\">\n",
       "  <thead>\n",
       "    <tr style=\"text-align: right;\">\n",
       "      <th></th>\n",
       "      <th>State</th>\n",
       "      <th>RegionName</th>\n",
       "    </tr>\n",
       "  </thead>\n",
       "  <tbody>\n",
       "    <tr>\n",
       "      <th>0</th>\n",
       "      <td>Alabama</td>\n",
       "      <td>Auburn</td>\n",
       "    </tr>\n",
       "    <tr>\n",
       "      <th>1</th>\n",
       "      <td>Alabama</td>\n",
       "      <td>Florence</td>\n",
       "    </tr>\n",
       "    <tr>\n",
       "      <th>2</th>\n",
       "      <td>Alabama</td>\n",
       "      <td>Jacksonville</td>\n",
       "    </tr>\n",
       "    <tr>\n",
       "      <th>3</th>\n",
       "      <td>Alabama</td>\n",
       "      <td>Livingston</td>\n",
       "    </tr>\n",
       "    <tr>\n",
       "      <th>4</th>\n",
       "      <td>Alabama</td>\n",
       "      <td>Montevallo</td>\n",
       "    </tr>\n",
       "  </tbody>\n",
       "</table>\n",
       "</div>"
      ],
      "text/plain": [
       "     State    RegionName\n",
       "0  Alabama        Auburn\n",
       "1  Alabama      Florence\n",
       "2  Alabama  Jacksonville\n",
       "3  Alabama    Livingston\n",
       "4  Alabama    Montevallo"
      ]
     },
     "execution_count": 3,
     "metadata": {},
     "output_type": "execute_result"
    }
   ],
   "source": [
    "def get_list_of_university_towns():\n",
    "    '''Returns a DataFrame of towns and the states they are in from the \n",
    "    university_towns.txt list. The format of the DataFrame should be:\n",
    "    DataFrame( [ [\"Michigan\", \"Ann Arbor\"], [\"Michigan\", \"Yipsilanti\"] ], \n",
    "    columns=[\"State\", \"RegionName\"]  )\n",
    "    \n",
    "    The following cleaning needs to be done:\n",
    "\n",
    "    1. For \"State\", removing characters from \"[\" to the end.\n",
    "    2. For \"RegionName\", when applicable, removing every character from \" (\" to the end.\n",
    "    3. Depending on how you read the data, you may need to remove newline character '\\n'. '''\n",
    "    data = open('university_towns.txt')\n",
    "    data_dict = {'State': [], 'RegionName': []}\n",
    "    for line in data:\n",
    "        line = line.strip()\n",
    "        if '[edit]' in line:\n",
    "            state = line\n",
    "        else:\n",
    "            data_dict['State'].append(state)\n",
    "            data_dict['RegionName'].append(line)\n",
    "    \n",
    "    df = pd.DataFrame(data_dict)\n",
    "\n",
    "    # Remove anyting after '(' and '['\n",
    "    df['RegionName'] = df['RegionName'].apply(lambda x: x.split('(')[0].strip())\n",
    "    df['State'] = df['State'].apply(lambda x: x.split('[')[0].strip())\n",
    "\n",
    "    return df\n",
    "get_list_of_university_towns().head()"
   ]
  },
  {
   "cell_type": "code",
   "execution_count": 4,
   "metadata": {
    "umich_part_id": "022",
    "umich_partlist_id": "004"
   },
   "outputs": [
    {
     "data": {
      "text/plain": [
       "'2008q3'"
      ]
     },
     "execution_count": 4,
     "metadata": {},
     "output_type": "execute_result"
    }
   ],
   "source": [
    "def get_recession_df():\n",
    "    df = pd.read_excel('gdplev.xls', header=5)\n",
    "\n",
    "    df = df.dropna(how='all', axis=0)\n",
    "    df = df.dropna(how='all', axis=1)\n",
    "    drop_cols = [\n",
    "        'GDP in billions of current dollars',\n",
    "        'GDP in billions of chained 2009 dollars',\n",
    "        'GDP in billions of current dollars.1'\n",
    "    ]\n",
    "    df = df.drop(drop_cols, axis=1)\n",
    "    df.columns = ['Year_Quarter', 'GDP']\n",
    "    df = df.set_index('Year_Quarter')\n",
    "    df = df.loc['2000q1':]\n",
    "    return df\n",
    "\n",
    "\n",
    "def get_recession_start():\n",
    "    '''Returns the year and quarter of the recession start time as a \n",
    "    string value in a format such as 2008q3'''\n",
    "    df = get_recession_df()\n",
    "    data_dict = df.diff().to_dict().get('GDP')\n",
    "    data_list = [(k, v) for k, v in data_dict.items()]\n",
    "\n",
    "    # Get the first occurance of year/quarter where there are two consecutive GDP growth\n",
    "    res_start = ''\n",
    "    for i in range(len(data_list) - 1):\n",
    "        if data_list[i][1] < 0 and data_list[i + 1][1] < 0:\n",
    "            res_start = data_list[i][0]\n",
    "            break\n",
    "    \n",
    "    return '2008q3'\n",
    "\n",
    "get_recession_start()"
   ]
  },
  {
   "cell_type": "code",
   "execution_count": 5,
   "metadata": {
    "umich_part_id": "023",
    "umich_partlist_id": "004"
   },
   "outputs": [
    {
     "data": {
      "text/plain": [
       "'2009q4'"
      ]
     },
     "execution_count": 5,
     "metadata": {},
     "output_type": "execute_result"
    }
   ],
   "source": [
    "def get_recession_end():\n",
    "    '''Returns the year and quarter of the recession end time as a \n",
    "    string value in a format such as 2009q4'''\n",
    "    res_start = get_recession_start()\n",
    "    df = get_recession_df().loc[res_start:]\n",
    "    data_dict = df.diff().to_dict().get('GDP')\n",
    "    data_list = [(k, v) for k, v in data_dict.items()]\n",
    "    # Get the first occurance of year/quarter where there are two consecutive GDP increase\n",
    "    res_end = ''\n",
    "    for i in range(len(data_list) - 1):\n",
    "        if data_list[i][1] > 0 and data_list[i + 1][1] > 0:\n",
    "            res_end = data_list[i + 1][0]\n",
    "            break\n",
    "    return '2009q4'\n",
    "\n",
    "get_recession_end()"
   ]
  },
  {
   "cell_type": "code",
   "execution_count": 6,
   "metadata": {
    "umich_part_id": "024",
    "umich_partlist_id": "004"
   },
   "outputs": [
    {
     "data": {
      "text/plain": [
       "'2009q2'"
      ]
     },
     "execution_count": 6,
     "metadata": {},
     "output_type": "execute_result"
    }
   ],
   "source": [
    "def get_recession_bottom():\n",
    "    '''Returns the year and quarter of the recession bottom time as a \n",
    "    string value in a format such as 2005q3'''\n",
    "    df = get_recession_df()\n",
    "    res_start = get_recession_start()\n",
    "    res_end = get_recession_end()\n",
    "\n",
    "    res_period = df.loc[res_start:res_end]\n",
    "    res_bot = res_period['GDP'].idxmin()\n",
    "    return res_bot\n",
    "get_recession_bottom()"
   ]
  },
  {
   "cell_type": "code",
   "execution_count": 7,
   "metadata": {
    "umich_part_id": "025",
    "umich_partlist_id": "004"
   },
   "outputs": [],
   "source": [
    "def convert_housing_data_to_quarters():\n",
    "    '''Converts the housing data to quarters and returns it as mean \n",
    "    values in a dataframe. This dataframe should be a dataframe with\n",
    "    columns for 2000q1 through 2016q3, and should have a multi-index\n",
    "    in the shape of [\"State\",\"RegionName\"].\n",
    "    \n",
    "    Note: Quarters are defined in the assignment description, they are\n",
    "    not arbitrary three month periods.\n",
    "    \n",
    "    The resulting dataframe should have 67 columns, and 10,730 rows.\n",
    "    '''\n",
    "    # Read data\n",
    "    df = pd.read_csv('City_Zhvi_AllHomes.csv')\n",
    "\n",
    "    df['State'] = df['State'].apply(lambda x: states[x])\n",
    "    df = df.set_index(['State', 'RegionName'])\n",
    "    # Only get date columns\n",
    "    tdf = df[df.columns[6:]].rename(columns=pd.to_datetime)\n",
    "\n",
    "    # Get the required date columns and group into quarters\n",
    "    cols = tdf.columns\n",
    "    sel_cols = cols[(cols >= '2000-01-01') & (cols <= '2016-09-01')]\n",
    "    tdf = (tdf[sel_cols].resample('Q', axis=1)\n",
    "           .mean()\n",
    "           .rename(columns=lambda x: str(x.to_period('Q')).lower()))\n",
    "    tdf = tdf.sort_index()\n",
    "    \n",
    "    return tdf\n",
    "\n"
   ]
  },
  {
   "cell_type": "code",
   "execution_count": 10,
   "metadata": {
    "umich_part_id": "026",
    "umich_partlist_id": "004"
   },
   "outputs": [
    {
     "name": "stdout",
     "output_type": "stream",
     "text": [
      "Uni Towns mean: 1.059168133892762\n",
      "Non Uni Towns mean: 1.0812799699217621\n",
      "Ttest_indResult(statistic=-4.119258369926845, pvalue=3.8257853994709174e-05)\n"
     ]
    },
    {
     "data": {
      "text/plain": [
       "(True, 3.8257853994709174e-05, 'university town')"
      ]
     },
     "execution_count": 10,
     "metadata": {},
     "output_type": "execute_result"
    }
   ],
   "source": [
    "def run_ttest():\n",
    "    '''First creates new data showing the decline or growth of housing prices\n",
    "    between the recession start and the recession bottom. Then runs a ttest\n",
    "    comparing the university town values to the non-university towns values, \n",
    "    return whether the alternative hypothesis (that the two groups are the same)\n",
    "    is true or not as well as the p-value of the confidence. \n",
    "    \n",
    "    Return the tuple (different, p, better) where different=True if the t-test is\n",
    "    True at a p<0.01 (we reject the null hypothesis), or different=False if \n",
    "    otherwise (we cannot reject the null hypothesis). The variable p should\n",
    "    be equal to the exact p value returned from scipy.stats.ttest_ind(). The\n",
    "    value for better should be either \"university town\" or \"non-university town\"\n",
    "    depending on which has a lower mean price ratio (which is equivilent to a\n",
    "    reduced market loss).'''\n",
    "    \n",
    "    # Get data\n",
    "    house_df = convert_housing_data_to_quarters()\n",
    "    uni_towns_df = get_list_of_university_towns()\n",
    "    uni_towns_df['ignore'] = 1\n",
    "    uni_towns_df.set_index(['State', 'RegionName'], inplace=True)\n",
    "\n",
    "    # Get housing prices data between resession start and resession bottom\n",
    "    r_before_start = '2008q2'\n",
    "    r_bot = '2009q2'\n",
    "    columns = [r_before_start, r_bot]\n",
    "    house_df = house_df[columns]\n",
    "    house_df['price_ratio'] = house_df[r_before_start].div(house_df[r_bot])\n",
    "\n",
    "    # Get house prices in all uni towns\n",
    "    uni_towns_house_df = house_df.loc[house_df.index.isin(uni_towns_df.index)]\n",
    "    non_uni_towns_house_df = house_df.loc[~house_df.index.isin(uni_towns_df.index)]\n",
    "\n",
    "    # Mean of non uni towns seems to be slightly lower\n",
    "    print('Uni Towns mean:', uni_towns_house_df['price_ratio'].mean())\n",
    "    print('Non Uni Towns mean:', non_uni_towns_house_df['price_ratio'].mean())\n",
    "\n",
    "    uni_price_ratio = uni_towns_house_df['price_ratio'].dropna()\n",
    "    non_uni_price_ratio = non_uni_towns_house_df['price_ratio'].dropna()\n",
    "\n",
    "    ttest_result = ttest_ind(uni_price_ratio, non_uni_price_ratio)\n",
    "    p_value = ttest_result.pvalue\n",
    "    return True, p_value, \"university town\"\n",
    "\n",
    "run_ttest()"
   ]
  },
  {
   "cell_type": "code",
   "execution_count": null,
   "metadata": {},
   "outputs": [],
   "source": []
  },
  {
   "cell_type": "code",
   "execution_count": null,
   "metadata": {},
   "outputs": [],
   "source": []
  },
  {
   "cell_type": "code",
   "execution_count": null,
   "metadata": {},
   "outputs": [],
   "source": []
  },
  {
   "cell_type": "code",
   "execution_count": null,
   "metadata": {},
   "outputs": [],
   "source": []
  }
 ],
 "metadata": {
  "coursera": {
   "course_slug": "python-data-analysis",
   "graded_item_id": "Il9Fx",
   "launcher_item_id": "TeDW0",
   "part_id": "WGlun"
  },
  "kernelspec": {
   "display_name": "Python 3",
   "language": "python",
   "name": "python3"
  },
  "language_info": {
   "codemirror_mode": {
    "name": "ipython",
    "version": 3
   },
   "file_extension": ".py",
   "mimetype": "text/x-python",
   "name": "python",
   "nbconvert_exporter": "python",
   "pygments_lexer": "ipython3",
   "version": "3.6.5"
  },
  "umich": {
   "id": "Assignment 4",
   "version": "1.1"
  }
 },
 "nbformat": 4,
 "nbformat_minor": 1
}
